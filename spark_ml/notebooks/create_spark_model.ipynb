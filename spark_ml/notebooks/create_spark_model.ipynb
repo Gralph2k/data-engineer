{
 "cells": [
  {
   "cell_type": "code",
   "execution_count": 1,
   "metadata": {
    "scrolled": true
   },
   "outputs": [
    {
     "name": "stdout",
     "output_type": "stream",
     "text": [
      "Current spark version is 2.4.0\n"
     ]
    }
   ],
   "source": [
    "println(s\"Current spark version is ${spark.version}\")"
   ]
  },
  {
   "cell_type": "code",
   "execution_count": 10,
   "metadata": {
    "scrolled": true
   },
   "outputs": [
    {
     "name": "stdout",
     "output_type": "stream",
     "text": [
      "+-----+------+\n",
      "|label| count|\n",
      "+-----+------+\n",
      "|    1|800000|\n",
      "|    0|800000|\n",
      "+-----+------+\n",
      "\n"
     ]
    },
    {
     "data": {
      "text/plain": [
       "dataSchema = StructType(StructField(target,IntegerType,true), StructField(id,LongType,true), StructField(raw_timestamp,StringType,true), StructField(query_status,StringType,true), StructField(author,StringType,true), StructField(tweet,StringType,true))\n",
       "dataPath = /home/jovyan/data/training.1600000.processed.noemoticon.csv\n",
       "raw_sentiment = [label: int, tweet: string]\n",
       "trainingData = [label: int, tweet: string]\n"
      ]
     },
     "metadata": {},
     "output_type": "display_data"
    },
    {
     "data": {
      "text/plain": [
       "[label: int, tweet: string]"
      ]
     },
     "execution_count": 10,
     "metadata": {},
     "output_type": "execute_result"
    }
   ],
   "source": [
    "import org.apache.spark.sql.types.{StructType, StructField, IntegerType, LongType, StringType}\n",
    "\n",
    "val dataSchema = new StructType()\n",
    "    .add(\"target\", IntegerType)\n",
    "    .add(\"id\", LongType)\n",
    "    .add(\"raw_timestamp\", StringType)\n",
    "    .add(\"query_status\", StringType)\n",
    "    .add(\"author\", StringType)\n",
    "    .add(\"tweet\", StringType)\n",
    "\n",
    "    \n",
    "val dataPath= \"/home/jovyan/data/training.1600000.processed.noemoticon.csv\"\n",
    "\n",
    "val raw_sentiment = spark.read\n",
    "    .format(\"csv\")\n",
    "    .option(\"header\",false)\n",
    "    .schema(dataSchema)\n",
    "    .load(dataPath)\n",
    "    .selectExpr(\"(case when target=4 then 1 else 0 end) as label\",\"tweet\")\n",
    "\n",
    "//val Array(trainingData, testData) = raw_sentiment.randomSplit(Array(1, 0.3)) \n",
    "\n",
    "val trainingData = raw_sentiment\n",
    "trainingData.groupBy($\"label\").count.show"
   ]
  },
  {
   "cell_type": "code",
   "execution_count": 11,
   "metadata": {
    "scrolled": false
   },
   "outputs": [
    {
     "data": {
      "text/plain": [
       "labelIndexer = strIdx_b7cb0c790bb2\n",
       "tokenizer = tok_bb1ed8d27b86\n",
       "hashingTF = hashingTF_dde35dadafbc\n",
       "labelConverter = idxToStr_0baac0076352\n",
       "rf = ...\n"
      ]
     },
     "metadata": {},
     "output_type": "display_data"
    },
    {
     "data": {
      "text/plain": [
       "..."
      ]
     },
     "execution_count": 11,
     "metadata": {},
     "output_type": "execute_result"
    }
   ],
   "source": [
    "import org.apache.spark.ml.{Pipeline, PipelineModel}\n",
    "import org.apache.spark.ml.classification.LogisticRegression\n",
    "import org.apache.spark.ml.feature.{HashingTF, Tokenizer}\n",
    "import org.apache.spark.ml.linalg.Vector\n",
    "import org.apache.spark.sql.Row\n",
    "import org.apache.spark.ml.classification.{RandomForestClassificationModel, RandomForestClassifier}\n",
    "import org.apache.spark.ml.feature.{IndexToString, StringIndexer, VectorIndexer}\n",
    "\n",
    "val labelIndexer = new StringIndexer()\n",
    "  .setInputCol(\"label\")\n",
    "  .setOutputCol(\"indexedLabel\")\n",
    "  .fit(raw_sentiment)\n",
    "\n",
    "val tokenizer = new Tokenizer()\n",
    "    .setInputCol(\"tweet\")\n",
    "    .setOutputCol(\"words\")\n",
    "\n",
    "val hashingTF = new HashingTF()\n",
    "    .setInputCol(tokenizer.getOutputCol)\n",
    "    .setOutputCol(\"features\")\n",
    "    .setNumFeatures(1000)\n",
    "\n",
    "// Convert indexed labels back to original labels.\n",
    "val labelConverter = new IndexToString()\n",
    "  .setInputCol(\"prediction\")\n",
    "  .setOutputCol(\"predictedLabel\")\n",
    "  .setLabels(labelIndexer.labels)\n",
    "\n",
    "val rf = new RandomForestClassifier()\n",
    "  .setLabelCol(\"indexedLabel\")\n",
    "  .setFeaturesCol(\"features\")\n",
    "  .setNumTrees(10)\n",
    "\n",
    "val pipeline = new Pipeline()\n",
    "   .setStages(Array(labelIndexer, tokenizer, hashingTF, rf, labelConverter))\n"
   ]
  },
  {
   "cell_type": "code",
   "execution_count": 12,
   "metadata": {
    "scrolled": true
   },
   "outputs": [
    {
     "data": {
      "text/plain": [
       "model = pipeline_b1b68980d298\n",
       "sameModel = pipeline_b1b68980d298\n"
      ]
     },
     "metadata": {},
     "output_type": "display_data"
    },
    {
     "data": {
      "text/plain": [
       "pipeline_b1b68980d298"
      ]
     },
     "execution_count": 12,
     "metadata": {},
     "output_type": "execute_result"
    }
   ],
   "source": [
    "val model = pipeline.fit(trainingData)\n",
    "model.write.overwrite().save(\"/home/jovyan/models/spark-ml-model-rf2\")\n",
    "\n"
   ]
  },
  {
   "cell_type": "code",
   "execution_count": null,
   "metadata": {
    "scrolled": true
   },
   "outputs": [],
   "source": [
    "val sameModel = PipelineModel.load(\"/home/jovyan/models/spark-ml-model-rf2\")\n",
    "sameModel.transform(raw_sentiment).write.mode(\"overwrite\").parquet(\"/home/jovyan/data/spark-ml-model-rf\")"
   ]
  },
  {
   "cell_type": "code",
   "execution_count": 6,
   "metadata": {},
   "outputs": [
    {
     "name": "stdout",
     "output_type": "stream",
     "text": [
      "root\n",
      " |-- label: integer (nullable = true)\n",
      " |-- tweet: string (nullable = true)\n",
      " |-- indexedLabel: double (nullable = true)\n",
      " |-- words: array (nullable = true)\n",
      " |    |-- element: string (containsNull = true)\n",
      " |-- features: vector (nullable = true)\n",
      " |-- rawPrediction: vector (nullable = true)\n",
      " |-- probability: vector (nullable = true)\n",
      " |-- prediction: double (nullable = true)\n",
      " |-- predictedLabel: string (nullable = true)\n",
      " |-- negative_probability: double (nullable = false)\n",
      " |-- positive_probability: double (nullable = false)\n",
      "\n",
      "+-----+--------------------+------------+--------------------+--------------------+--------------------+--------------------+----------+--------------+--------------------+--------------------+\n",
      "|label|               tweet|indexedLabel|               words|            features|       rawPrediction|         probability|prediction|predictedLabel|negative_probability|positive_probability|\n",
      "+-----+--------------------+------------+--------------------+--------------------+--------------------+--------------------+----------+--------------+--------------------+--------------------+\n",
      "|    0|@switchfoot http:...|         0.0|[@switchfoot, htt...|(1000,[7,14,21,54...|[4.36068099256288...|[0.43606809925628...|       1.0|             1| 0.43606809925628864|  0.5639319007437114|\n",
      "|    0|is upset that he ...|         0.0|[is, upset, that,...|(1000,[170,193,22...|[5.02122127751674...|[0.50212212775167...|       0.0|             0|  0.5021221277516746| 0.49787787224832536|\n",
      "|    0|@Kenichan I dived...|         0.0|[@kenichan, i, di...|(1000,[10,36,77,1...|[5.57104513637828...|[0.55710451363782...|       0.0|             0|  0.5571045136378289| 0.44289548636217113|\n",
      "|    0|my whole body fee...|         0.0|[my, whole, body,...|(1000,[82,191,296...|[5.65325532419100...|[0.56532553241910...|       0.0|             0|  0.5653255324191001| 0.43467446758089984|\n",
      "|    0|@nationwideclass ...|         0.0|[@nationwideclass...|(1000,[18,96,130,...|[4.98904046693209...|[0.49890404669320...|       1.0|             1|  0.4989040466932092|  0.5010959533067908|\n",
      "|    0|@Kwesidei not the...|         0.0|[@kwesidei, not, ...|(1000,[18,223,710...|[4.88499036031127...|[0.48849903603112...|       1.0|             1|  0.4884990360311277|  0.5115009639688723|\n",
      "|    0|         Need a hug |         0.0|      [need, a, hug]|(1000,[48,170,537...|[4.85071256985675...|[0.48507125698567...|       1.0|             1| 0.48507125698567516|  0.5149287430143249|\n",
      "|    0|@LOLTrish hey  lo...|         0.0|[@loltrish, hey, ...|(1000,[139,157,17...|[4.48775267699872...|[0.44877526769987...|       1.0|             1| 0.44877526769987225|  0.5512247323001278|\n",
      "|    0|@Tatiana_K nope t...|         0.0|[@tatiana_k, nope...|(1000,[48,234,299...|[4.95325055284520...|[0.49532505528452...|       1.0|             1|  0.4953250552845203|  0.5046749447154798|\n",
      "|    0|@twittera que me ...|         0.0|[@twittera, que, ...|(1000,[161,324,47...|[4.94479054461085...|[0.49447905446108...|       1.0|             1|  0.4944790544610857|  0.5055209455389142|\n",
      "+-----+--------------------+------------+--------------------+--------------------+--------------------+--------------------+----------+--------------+--------------------+--------------------+\n",
      "\n"
     ]
    },
    {
     "data": {
      "text/plain": [
       "getProbability = UserDefinedFunction(<function2>,DoubleType,Some(List(org.apache.spark.ml.linalg.VectorUDT@3bfc3ba7, IntegerType)))\n",
       "predictionsDF = [label: int, tweet: string ... 9 more fields]\n"
      ]
     },
     "metadata": {},
     "output_type": "display_data"
    },
    {
     "data": {
      "text/plain": [
       "[label: int, tweet: string ... 9 more fields]"
      ]
     },
     "execution_count": 6,
     "metadata": {},
     "output_type": "execute_result"
    }
   ],
   "source": [
    "import org.apache.spark.sql.functions._\n",
    "val getProbability = udf((prediction: org.apache.spark.ml.linalg.Vector, pos:Integer) => prediction(pos))\n",
    "val predictionsDF = spark.read.parquet(\"/home/jovyan/data/spark-ml-model-rf\")\n",
    "         .withColumn(\"negative_probability\",getProbability($\"probability\",lit(0)))\n",
    "         .withColumn(\"positive_probability\",getProbability($\"probability\",lit(1)))\n",
    "predictionsDF.printSchema\n",
    "predictionsDF.limit(10).show()"
   ]
  },
  {
   "cell_type": "code",
   "execution_count": 34,
   "metadata": {
    "scrolled": true
   },
   "outputs": [
    {
     "name": "stdout",
     "output_type": "stream",
     "text": [
      "+--------------+-----+------------------------------------------------------------------------------------------------------------------------------------------+----------+--------------------+--------------------+\n",
      "|predictedLabel|label|tweet                                                                                                                                     |prediction|positive_probability|negative_probability|\n",
      "+--------------+-----+------------------------------------------------------------------------------------------------------------------------------------------+----------+--------------------+--------------------+\n",
      "|1             |1    |@OrtalS thank you babe &lt;3 and thanks for the candies! you want me to get fat, huh? just kidding. it's very sweet                       |1.0       |0.6464646760062969  |0.35353532399370313 |\n",
      "|1             |1    |@denvercheetoh I thought I blew it with you when I endorsed Dunkin Donuts (kicks ass baby!). Thanks friend.                               |1.0       |0.6412040561064958  |0.3587959438935041  |\n",
      "|1             |1    |@Jimbotown Hey, just watched the video you posted on your site!  Thanks for the plug!  Hope you're happy with the final interview         |1.0       |0.6393727923154153  |0.3606272076845847  |\n",
      "|1             |1    |Last night = best date with @laurensteil ever. Thanks @GatorGirl816 for those tickets! I'm already thinking up a way to thank you         |1.0       |0.6385017785532001  |0.3614982214468     |\n",
      "|1             |1    |Happy Mother's Day to all the mommies out there, be you woman or man as long as you're 'momma' to someone this is your day!               |1.0       |0.6369708147561726  |0.3630291852438275  |\n",
      "|1             |1    |@jonathantweed Thanks - you have a good point.  Liking the weight of the Feisol. Are you happy with it?                                   |1.0       |0.6362317019914611  |0.36376829800853894 |\n",
      "|1             |1    |@candiRSX Thank you and thanks for the nice little write-up on your blog too  #adventureland                                              |1.0       |0.6357531363985957  |0.36424686360140435 |\n",
      "|1             |1    |@BabeNatasha thank you for this nice conversation.... Have to eat something.... I am looking forward to watch your tweets.                |1.0       |0.6357531363985957  |0.36424686360140435 |\n",
      "|1             |1    |@samthemedic I am, thanks love! Also thank you to: @ilaam @sarahlicious @xglossd @akaterenia @pryllie for the get well wishes/kind words! |1.0       |0.6357531363985957  |0.36424686360140435 |\n",
      "|1             |1    |@newandgreenbaby  thanks  and I'm so happy to hear about Soulemama - hope it works out for you                                            |1.0       |0.6347600541706185  |0.36523994582938146 |\n",
      "|1             |1    |im so happy  - dommie : thanks for your attention i'm so happy jason : you know why i'm so care about your... http://tumblr.com/xcn1wn616 |1.0       |0.6346439746605071  |0.3653560253394929  |\n",
      "|1             |0    |@lee_milton hahah i live 40 mins from the train station  if you can man its just fun and nice to get out ....                             |1.0       |0.6344439697634003  |0.3655560302365997  |\n",
      "|1             |1    |@KellyGalvin Thanks for the follow and Happy Birthday to your mom!   Hope you had a great weekend!!                                       |1.0       |0.6319902292492966  |0.3680097707507034  |\n",
      "|1             |1    |@eternity46 Hey, thank you for that. I really appreciate you and your whole family.  Thanks for sharing the journey with me               |1.0       |0.6316659626074244  |0.3683340373925757  |\n",
      "|1             |1    |@msbehavn Hello - did read about your parents day yday  well done to you both  Always so great hearing positive feedback on your kids!    |1.0       |0.6306645233004088  |0.3693354766995912  |\n",
      "|1             |1    |@amyty Awesome - thanks for that! Good Luck with yours. Both you and @ausi1 deserve an HD \\0/ for your efforts                            |1.0       |0.6306645233004088  |0.3693354766995912  |\n",
      "|1             |1    |@TracyBrinkmann Thanks Tracy.  Hope you're having as much fun as you did on your Jeff-ffaa-faaa weekend                                   |1.0       |0.6299669091138084  |0.3700330908861917  |\n",
      "|1             |1    |had a nice evenig with everyone yesterday ! thanks  Merci a ceux qui �taient pr�sent                                                      |1.0       |0.6299132869050892  |0.3700867130949108  |\n",
      "|1             |1    |@Seowhow Thank you Pastor How!  You're the man that made me the man                                                                       |1.0       |0.6292639850481816  |0.37073601495181846 |\n",
      "|1             |1    |@developerbooks Thanks for the follow. Nice blog idea. How can I help with it?  I suggest you also follow @packtpub...                    |1.0       |0.629094727829459   |0.37090527217054114 |\n",
      "+--------------+-----+------------------------------------------------------------------------------------------------------------------------------------------+----------+--------------------+--------------------+\n",
      "only showing top 20 rows\n",
      "\n"
     ]
    }
   ],
   "source": [
    "//Positive labels\n",
    "predictionsDF\n",
    ".select($\"predictedLabel\"\n",
    "        ,$\"label\"\n",
    "        ,$\"tweet\"\n",
    "        ,$\"prediction\"\n",
    "        ,$\"positive_probability\"\n",
    "        ,$\"negative_probability\"\n",
    "       )\n",
    ".filter(\"predictedLabel=1\")\n",
    ".orderBy($\"positive_probability\".desc)\n",
    ".limit(10)\n",
    ".show(false)"
   ]
  },
  {
   "cell_type": "code",
   "execution_count": 32,
   "metadata": {
    "scrolled": false
   },
   "outputs": [
    {
     "name": "stdout",
     "output_type": "stream",
     "text": [
      "+--------------+-----+--------------------------------------------------------------------------------------------------------------------------------------------------+----------+--------------------+--------------------+\n",
      "|predictedLabel|label|tweet                                                                                                                                             |prediction|positive_probability|negative_probability|\n",
      "+--------------+-----+--------------------------------------------------------------------------------------------------------------------------------------------------+----------+--------------------+--------------------+\n",
      "|0             |0    |I got stuck @ work doing overtime and I'm not happy. I miss my baby like crazy . I need to be right next to you, lying in your arms.              |0.0       |0.295349669140342   |0.7046503308596579  |\n",
      "|0             |0    |this feeling like I'm gonna puke is called 'sadness' right? I didn't know how bad I'd miss my school.   http://twitpic.com/6jdj6                  |0.0       |0.30335481210262094 |0.696645187897379   |\n",
      "|0             |0    |At work &amp; worrying about my Gracie. 1st Visit to vet. She got vaccinated &amp; treated for heartworms. Sedatives=sad stoner dog w rubber legs |0.0       |0.31764235651053346 |0.6823576434894665  |\n",
      "|0             |1    |just got done eating. and got home from 1st fridays ate some hot pockets and now is home chilling wit my mom and fam. feeling blessed             |0.0       |0.3181041172418656  |0.6818958827581344  |\n",
      "|0             |0    |on my way to work once again, sletp till 4pm, Sarah couldn't come over either  I miss her                                                         |0.0       |0.31910046686222227 |0.6808995331377777  |\n",
      "|0             |0    |@nkotbblockhead  Hey, my request line for NKAirplay is @NKAirplay2 .... sorry I didn't your requests                                              |0.0       |0.31982009076414536 |0.6801799092358547  |\n",
      "|0             |0    |Out to dinner w/ my Fam &amp; my Friend Susanna. I'm gonna really miss her when she leaves for Germany later this week.                           |0.0       |0.32150812105834525 |0.6784918789416547  |\n",
      "|0             |0    |@thriftymommy well my daughter is 20 now...thats why I said 'I miss those days'...they go by sooo fast                                            |0.0       |0.3215229966319698  |0.6784770033680302  |\n",
      "|0             |0    |Bed. Class 8-12. Work 12-3. Gym 3-5 or 6. Then class 6-10. Another day that's gonna fly by. I miss my girlfriend                                  |0.0       |0.322547081075657   |0.677452918924343   |\n",
      "|0             |0    |Work starts tomorrow,so here we go again. Going to bed. I miss my Oklahoma friends.                                                               |0.0       |0.322547081075657   |0.677452918924343   |\n",
      "|0             |0    |graduation's over! i'm gonna miss all my senior friends tho  oh well it's life. but now heading home to work on page. Woo! GOJAYGO!               |0.0       |0.322547081075657   |0.677452918924343   |\n",
      "|0             |0    |@ThatKevinSmith I miss your SModcasts on Sat AM's on XM202..now my ride into work is boring                                                       |0.0       |0.322547081075657   |0.677452918924343   |\n",
      "|0             |0    |@mileycyrus Aw man... I'm gonna miss the show.  It's become part of my home from work &quot;routine&quot;                                         |0.0       |0.322547081075657   |0.677452918924343   |\n",
      "|0             |0    |wow today was prob worst day at work ever ... i am gonna miss my weekend team                                                                     |0.0       |0.322547081075657   |0.677452918924343   |\n",
      "|0             |0    |My last week of work &amp; I'm gonna miss my staff here at the hospital                                                                           |0.0       |0.322547081075657   |0.677452918924343   |\n",
      "|0             |0    |last day of my 7 day work week! I leave in 3 daaaays! I'm gonna miss everyone! especially my sisters!                                             |0.0       |0.322547081075657   |0.677452918924343   |\n",
      "|0             |0    |OMG 1st night back and DRAMA as usual why can't some women just take a little &quot;bitch break&quot; from time to time. I miss my BFF  #fb       |0.0       |0.3232438249478096  |0.6767561750521903  |\n",
      "|0             |0    |@dannywood Sorry Danny i am gonna miss the tour! u See my show was TODAY!!  hope u guys have a blast though                                       |0.0       |0.32404783876662363 |0.6759521612333763  |\n",
      "|0             |0    |Last full day w/ my daughter tomorrow 4 the rest of the summer!  She's off 2 work at a sports camp.  I'M GONNA MISS THE GOOSE!                    |0.0       |0.3248565473087252  |0.6751434526912748  |\n",
      "|0             |0    |I can't believe this is one of my last times on the tram to class. I'm gonna miss rome                                                            |0.0       |0.3267306719811215  |0.6732693280188785  |\n",
      "+--------------+-----+--------------------------------------------------------------------------------------------------------------------------------------------------+----------+--------------------+--------------------+\n",
      "only showing top 20 rows\n",
      "\n"
     ]
    }
   ],
   "source": [
    "//Negative labels\n",
    "predictionsDF\n",
    ".select($\"predictedLabel\"\n",
    "        ,$\"label\"\n",
    "        ,$\"tweet\"\n",
    "        ,$\"prediction\"\n",
    "        ,$\"positive_probability\"\n",
    "        ,$\"negative_probability\"\n",
    "       )\n",
    ".filter(\"predictedLabel=0\")\n",
    ".orderBy($\"negative_probability\".desc)\n",
    ".limit(10)\n",
    ".show(false)"
   ]
  },
  {
   "cell_type": "code",
   "execution_count": 33,
   "metadata": {
    "scrolled": true
   },
   "outputs": [
    {
     "name": "stdout",
     "output_type": "stream",
     "text": [
      "615966\n",
      "1600000\n",
      "61.502125\n"
     ]
    }
   ],
   "source": [
    "//Forecast accuracy\n",
    "println(predictionsDF.filter(\"predictedLabel<>label\").count)\n",
    "println(predictionsDF.count)\n",
    "println(100.0*predictionsDF.filter(\"predictedLabel=label\").count/predictionsDF.count )"
   ]
  },
  {
   "cell_type": "code",
   "execution_count": null,
   "metadata": {
    "scrolled": true
   },
   "outputs": [],
   "source": []
  }
 ],
 "metadata": {
  "kernelspec": {
   "display_name": "Apache Toree - Scala",
   "language": "scala",
   "name": "apache_toree_scala"
  },
  "language_info": {
   "codemirror_mode": "text/x-scala",
   "file_extension": ".scala",
   "mimetype": "text/x-scala",
   "name": "scala",
   "pygments_lexer": "scala",
   "version": "2.11.12"
  }
 },
 "nbformat": 4,
 "nbformat_minor": 2
}
